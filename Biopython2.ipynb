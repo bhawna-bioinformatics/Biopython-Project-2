{
 "cells": [
  {
   "cell_type": "code",
   "execution_count": 1,
   "id": "8a0198c4-751a-4403-8cd6-11e08f62bb3d",
   "metadata": {},
   "outputs": [],
   "source": [
    "# Protein Sequence Analysis and visualization with Biopython"
   ]
  },
  {
   "cell_type": "code",
   "execution_count": 3,
   "id": "6ae22329-5c2f-42a8-8615-cafce23af9af",
   "metadata": {},
   "outputs": [
    {
     "name": "stdout",
     "output_type": "stream",
     "text": [
      "Defaulting to user installation because normal site-packages is not writeable\n",
      "Requirement already satisfied: biopython in c:\\users\\aaaa\\appdata\\roaming\\python\\python312\\site-packages (1.85)\n",
      "Requirement already satisfied: numpy in c:\\programdata\\anaconda3\\lib\\site-packages (from biopython) (1.26.4)\n",
      "Note: you may need to restart the kernel to use updated packages.\n"
     ]
    }
   ],
   "source": [
    "pip install biopython"
   ]
  },
  {
   "cell_type": "code",
   "execution_count": null,
   "id": "ea6816ff-9ec1-44a5-8d25-01bedc70d6d2",
   "metadata": {},
   "outputs": [],
   "source": [
    "# Installation  of biopython Libraries"
   ]
  },
  {
   "cell_type": "code",
   "execution_count": 13,
   "id": "38b42826-de98-4847-828e-410ad6aab191",
   "metadata": {},
   "outputs": [
    {
     "name": "stdout",
     "output_type": "stream",
     "text": [
      "Defaulting to user installation because normal site-packages is not writeable\n",
      "Requirement already satisfied: biopython in c:\\users\\aaaa\\appdata\\roaming\\python\\python312\\site-packages (1.85)\n",
      "Requirement already satisfied: matplotlib in c:\\programdata\\anaconda3\\lib\\site-packages (3.9.2)\n",
      "Requirement already satisfied: numpy in c:\\programdata\\anaconda3\\lib\\site-packages (from biopython) (1.26.4)\n",
      "Requirement already satisfied: contourpy>=1.0.1 in c:\\programdata\\anaconda3\\lib\\site-packages (from matplotlib) (1.2.0)\n",
      "Requirement already satisfied: cycler>=0.10 in c:\\programdata\\anaconda3\\lib\\site-packages (from matplotlib) (0.11.0)\n",
      "Requirement already satisfied: fonttools>=4.22.0 in c:\\programdata\\anaconda3\\lib\\site-packages (from matplotlib) (4.51.0)\n",
      "Requirement already satisfied: kiwisolver>=1.3.1 in c:\\programdata\\anaconda3\\lib\\site-packages (from matplotlib) (1.4.4)\n",
      "Requirement already satisfied: packaging>=20.0 in c:\\programdata\\anaconda3\\lib\\site-packages (from matplotlib) (24.1)\n",
      "Requirement already satisfied: pillow>=8 in c:\\programdata\\anaconda3\\lib\\site-packages (from matplotlib) (10.4.0)\n",
      "Requirement already satisfied: pyparsing>=2.3.1 in c:\\programdata\\anaconda3\\lib\\site-packages (from matplotlib) (3.1.2)\n",
      "Requirement already satisfied: python-dateutil>=2.7 in c:\\programdata\\anaconda3\\lib\\site-packages (from matplotlib) (2.9.0.post0)\n",
      "Requirement already satisfied: six>=1.5 in c:\\programdata\\anaconda3\\lib\\site-packages (from python-dateutil>=2.7->matplotlib) (1.16.0)\n",
      "Note: you may need to restart the kernel to use updated packages.\n"
     ]
    }
   ],
   "source": [
    "pip install biopython matplotlib\n"
   ]
  },
  {
   "cell_type": "code",
   "execution_count": 1,
   "id": "2f5d3efe-4d67-4688-8c02-1ab8ff451291",
   "metadata": {},
   "outputs": [],
   "source": [
    "from Bio import SeqIO\n",
    "from Bio.SeqUtils import molecular_weight\n",
    "from Bio.SeqUtils.IsoelectricPoint import IsoelectricPoint\n",
    "import matplotlib.pyplot as plt\n",
    "from collections import Counter\n"
   ]
  },
  {
   "cell_type": "code",
   "execution_count": null,
   "id": "d860a085-9f9f-4f65-b216-df1d073fea3d",
   "metadata": {},
   "outputs": [],
   "source": [
    "# Load and Preview Protein Sequence"
   ]
  },
  {
   "cell_type": "code",
   "execution_count": 8,
   "id": "d43f5c34-ebf3-44f3-8619-9f84846ab279",
   "metadata": {},
   "outputs": [
    {
     "name": "stdout",
     "output_type": "stream",
     "text": [
      "Loaded 1 protein sequences.\n"
     ]
    }
   ],
   "source": [
    "file_path = r\"C:\\Users\\AAAA\\Downloads\\sequence (1).fasta\"\n",
    "\n",
    "protein_records = list(SeqIO.parse(file_path, \"fasta\"))\n",
    "print(f\"Loaded {len(protein_records)} protein sequences.\")\n"
   ]
  },
  {
   "cell_type": "code",
   "execution_count": 9,
   "id": "05a02026-6e89-46aa-9a11-f6d5b0bc07e4",
   "metadata": {
    "scrolled": true
   },
   "outputs": [
    {
     "name": "stdout",
     "output_type": "stream",
     "text": [
      "ID: CAA00181.1\n"
     ]
    }
   ],
   "source": [
    "first_seq = protein_records[0].seq\n",
    "print(\"ID:\", protein_records[0].id)\n",
    "\n"
   ]
  },
  {
   "cell_type": "code",
   "execution_count": null,
   "id": "4866ec3b-a9a9-48c1-a6fe-1f18178bd603",
   "metadata": {},
   "outputs": [],
   "source": [
    "#Amino Acid Composition and Frequencies"
   ]
  },
  {
   "cell_type": "code",
   "execution_count": 10,
   "id": "ecf296e3-3601-4096-8e60-79c589ff1871",
   "metadata": {},
   "outputs": [
    {
     "name": "stdout",
     "output_type": "stream",
     "text": [
      "First 50 amino acids: VLSPADKTNVKAAWGKVGAHAGEYGAEALERMFLSFPTTKTYFPHFDLSH\n"
     ]
    }
   ],
   "source": [
    "print(\"First 50 amino acids:\", first_seq[:50])"
   ]
  },
  {
   "cell_type": "code",
   "execution_count": 11,
   "id": "2f40aea5-1008-4278-8ebb-bb483b0603e0",
   "metadata": {},
   "outputs": [
    {
     "name": "stdout",
     "output_type": "stream",
     "text": [
      "Counter({'A': 21, 'L': 18, 'V': 13, 'S': 11, 'K': 11, 'H': 10, 'T': 9, 'D': 8, 'P': 7, 'G': 7, 'F': 7, 'N': 4, 'E': 4, 'Y': 3, 'R': 3, 'M': 2, 'W': 1, 'Q': 1, 'C': 1})\n"
     ]
    }
   ],
   "source": [
    "aa_counts = Counter(first_seq)\n",
    "print(aa_counts)"
   ]
  },
  {
   "cell_type": "code",
   "execution_count": 13,
   "id": "2c453b1d-9411-4617-b0c7-b043c126a6da",
   "metadata": {},
   "outputs": [
    {
     "name": "stdout",
     "output_type": "stream",
     "text": [
      "Amino Acid Frequencies:\n"
     ]
    }
   ],
   "source": [
    "print(\"Amino Acid Frequencies:\")"
   ]
  },
  {
   "cell_type": "code",
   "execution_count": 14,
   "id": "df714aa6-6421-4260-ad22-9833691baad0",
   "metadata": {},
   "outputs": [
    {
     "name": "stdout",
     "output_type": "stream",
     "text": [
      "{'A': 21, 'C': 1, 'D': 8, 'E': 4, 'F': 7, 'G': 7, 'H': 10, 'K': 11, 'L': 18, 'M': 2, 'N': 4, 'P': 7, 'Q': 1, 'R': 3, 'S': 11, 'T': 9, 'V': 13, 'W': 1, 'Y': 3}\n"
     ]
    }
   ],
   "source": [
    "from collections import Counter\n",
    "print(dict(sorted(aa_counts.items())))\n"
   ]
  },
  {
   "cell_type": "code",
   "execution_count": 15,
   "id": "42915d67-82d4-46c2-a6a3-ab661af962dd",
   "metadata": {},
   "outputs": [
    {
     "name": "stdout",
     "output_type": "stream",
     "text": [
      "ID: CAA00181.1\n",
      "First 50 amino acids: VLSPADKTNVKAAWGKVGAHAGEYGAEALERMFLSFPTTKTYFPHFDLSH\n"
     ]
    }
   ],
   "source": [
    "first_seq = protein_records[0].seq\n",
    "print(\"ID:\", protein_records[0].id)\n",
    "print(\"First 50 amino acids:\", first_seq[:50])\n"
   ]
  },
  {
   "cell_type": "code",
   "execution_count": 18,
   "id": "810c9f51-03a7-44fb-9a5b-27c64684d754",
   "metadata": {},
   "outputs": [
    {
     "name": "stdout",
     "output_type": "stream",
     "text": [
      "VLSPADKTNVKAAWGKVGAHAGEYGAEALERMFLSFPTTKTYFPHFDLSH\n"
     ]
    }
   ],
   "source": [
    "seq = \"VLSPADKTNVKAAWGKVGAHAGEYGAEALERMFLSFPTTKTYFPHFDLSH\"\n",
    "print(seq)"
   ]
  },
  {
   "cell_type": "code",
   "execution_count": 20,
   "id": "a0986b2e-c038-4eb5-92e1-4b860a6471a9",
   "metadata": {},
   "outputs": [],
   "source": [
    "aa_count = Counter(seq)"
   ]
  },
  {
   "cell_type": "code",
   "execution_count": 21,
   "id": "5bac190f-98fe-4f15-9659-de1c9e690792",
   "metadata": {},
   "outputs": [
    {
     "name": "stdout",
     "output_type": "stream",
     "text": [
      "Counter({'A': 7, 'L': 4, 'K': 4, 'T': 4, 'G': 4, 'F': 4, 'V': 3, 'S': 3, 'P': 3, 'H': 3, 'E': 3, 'D': 2, 'Y': 2, 'N': 1, 'W': 1, 'R': 1, 'M': 1})\n"
     ]
    }
   ],
   "source": [
    "print(aa_count)"
   ]
  },
  {
   "cell_type": "code",
   "execution_count": 22,
   "id": "90c7693e-3282-48b9-8167-b312ff186475",
   "metadata": {},
   "outputs": [],
   "source": [
    "total_aa = len(seq)"
   ]
  },
  {
   "cell_type": "code",
   "execution_count": 23,
   "id": "39d85fac-afad-4ad9-a357-98183e786856",
   "metadata": {},
   "outputs": [
    {
     "name": "stdout",
     "output_type": "stream",
     "text": [
      "50\n"
     ]
    }
   ],
   "source": [
    "print(total_aa)"
   ]
  },
  {
   "cell_type": "code",
   "execution_count": 32,
   "id": "213bfbf4-dbc3-462e-be52-115f73c7423d",
   "metadata": {},
   "outputs": [
    {
     "name": "stdout",
     "output_type": "stream",
     "text": [
      "VLSPADKTNVKAAWGKVGAHAGEYGAEALERMFLSFPTTKTYFPHFDLSHGSAQVKGHGKKVADALTNAVAHVDDMPNALSALSDLHAHKLRVDPVNFKLLSHCLLVTLAAHLPAEFTPAVHASLDKFLASVSTVLTSKYR\n"
     ]
    }
   ],
   "source": [
    "from Bio import SeqIO\n",
    "record = SeqIO.read( r\"C:\\Users\\AAAA\\Downloads\\sequence (1).fasta\", \"fasta\")\n",
    "protein_seq = record.seq\n",
    "print(protein_seq)"
   ]
  },
  {
   "cell_type": "code",
   "execution_count": null,
   "id": "e418eb46-55db-4735-ac25-db55a7cc78a0",
   "metadata": {},
   "outputs": [],
   "source": [
    "# Molecular Weight calculation"
   ]
  },
  {
   "cell_type": "code",
   "execution_count": 34,
   "id": "dc2fb910-3e7a-44ff-ae9c-dcc4b93964f6",
   "metadata": {},
   "outputs": [
    {
     "name": "stdout",
     "output_type": "stream",
     "text": [
      "15126.163100000002\n"
     ]
    }
   ],
   "source": [
    "from Bio.SeqUtils import molecular_weight, IsoelectricPoint\n",
    "from collections import Counter\n",
    "\n",
    "# Molecular weight\n",
    "mw = molecular_weight(protein_seq, seq_type=\"protein\")\n",
    "print(mw)\n",
    "\n"
   ]
  },
  {
   "cell_type": "code",
   "execution_count": 37,
   "id": "6ca6808a-ede7-481d-8a23-b5cbbaaf2b05",
   "metadata": {},
   "outputs": [
    {
     "name": "stdout",
     "output_type": "stream",
     "text": [
      "141\n"
     ]
    }
   ],
   "source": [
    "aa_counts = Counter(protein_seq)\n",
    "total = len(protein_seq)\n",
    "print(total)"
   ]
  },
  {
   "cell_type": "code",
   "execution_count": 38,
   "id": "9d31fbf1-65ba-44e1-86ca-f06f56367e9e",
   "metadata": {},
   "outputs": [
    {
     "name": "stdout",
     "output_type": "stream",
     "text": [
      "{'V': 9.22, 'L': 12.77, 'S': 7.8, 'P': 4.96, 'A': 14.89, 'D': 5.67, 'K': 7.8, 'T': 6.38, 'N': 2.84, 'W': 0.71, 'G': 4.96, 'H': 7.09, 'E': 2.84, 'Y': 2.13, 'R': 2.13, 'M': 1.42, 'F': 4.96, 'Q': 0.71, 'C': 0.71}\n"
     ]
    }
   ],
   "source": [
    "composition = {aa: round((count/total)*100, 2) for aa, count in aa_counts.items()}\n",
    "print(composition)"
   ]
  },
  {
   "cell_type": "code",
   "execution_count": null,
   "id": "eb134575-6852-4d99-a7cd-d40ac84b3b18",
   "metadata": {},
   "outputs": [],
   "source": [
    "# Visualization"
   ]
  },
  {
   "cell_type": "code",
   "execution_count": 41,
   "id": "1301b639-b64b-4242-9739-76cd68aad1da",
   "metadata": {
    "collapsed": true,
    "jupyter": {
     "outputs_hidden": true
    }
   },
   "outputs": [
    {
     "data": {
      "image/png": "[encoded data removed]",
      "text/plain": [
       "<Figure size 1000x500 with 1 Axes>"
      ]
     },
     "metadata": {},
     "output_type": "display_data"
    }
   ],
   "source": [
    "import matplotlib.pyplot as plt\n",
    "\n",
    "# Plot composition\n",
    "plt.figure(figsize=(10, 5))\n",
    "plt.bar(composition.keys(), composition.values(), color='slateblue')\n",
    "plt.xlabel(\"Amino Acids\")\n",
    "plt.ylabel(\"Composition (%)\")\n",
    "plt.title(\"Amino Acid Composition\")\n",
    "plt.show()\n"
   ]
  },
  {
   "cell_type": "code",
   "execution_count": null,
   "id": "9f22d546-38f8-4e9f-8868-0c809d54e05e",
   "metadata": {},
   "outputs": [],
   "source": [
    "#  Create a DataFrame"
   ]
  },
  {
   "cell_type": "code",
   "execution_count": 42,
   "id": "ee54727d-14ec-4169-a942-152ff4db7b22",
   "metadata": {},
   "outputs": [
    {
     "data": {
      "text/html": [
       "<div>\n",
       "<style scoped>\n",
       "    .dataframe tbody tr th:only-of-type {\n",
       "        vertical-align: middle;\n",
       "    }\n",
       "\n",
       "    .dataframe tbody tr th {\n",
       "        vertical-align: top;\n",
       "    }\n",
       "\n",
       "    .dataframe thead th {\n",
       "        text-align: right;\n",
       "    }\n",
       "</style>\n",
       "<table border=\"1\" class=\"dataframe\">\n",
       "  <thead>\n",
       "    <tr style=\"text-align: right;\">\n",
       "      <th></th>\n",
       "      <th>Amino Acid</th>\n",
       "      <th>Percentage</th>\n",
       "    </tr>\n",
       "  </thead>\n",
       "  <tbody>\n",
       "    <tr>\n",
       "      <th>0</th>\n",
       "      <td>V</td>\n",
       "      <td>9.22</td>\n",
       "    </tr>\n",
       "    <tr>\n",
       "      <th>1</th>\n",
       "      <td>L</td>\n",
       "      <td>12.77</td>\n",
       "    </tr>\n",
       "    <tr>\n",
       "      <th>2</th>\n",
       "      <td>S</td>\n",
       "      <td>7.80</td>\n",
       "    </tr>\n",
       "    <tr>\n",
       "      <th>3</th>\n",
       "      <td>P</td>\n",
       "      <td>4.96</td>\n",
       "    </tr>\n",
       "    <tr>\n",
       "      <th>4</th>\n",
       "      <td>A</td>\n",
       "      <td>14.89</td>\n",
       "    </tr>\n",
       "    <tr>\n",
       "      <th>5</th>\n",
       "      <td>D</td>\n",
       "      <td>5.67</td>\n",
       "    </tr>\n",
       "    <tr>\n",
       "      <th>6</th>\n",
       "      <td>K</td>\n",
       "      <td>7.80</td>\n",
       "    </tr>\n",
       "    <tr>\n",
       "      <th>7</th>\n",
       "      <td>T</td>\n",
       "      <td>6.38</td>\n",
       "    </tr>\n",
       "    <tr>\n",
       "      <th>8</th>\n",
       "      <td>N</td>\n",
       "      <td>2.84</td>\n",
       "    </tr>\n",
       "    <tr>\n",
       "      <th>9</th>\n",
       "      <td>W</td>\n",
       "      <td>0.71</td>\n",
       "    </tr>\n",
       "    <tr>\n",
       "      <th>10</th>\n",
       "      <td>G</td>\n",
       "      <td>4.96</td>\n",
       "    </tr>\n",
       "    <tr>\n",
       "      <th>11</th>\n",
       "      <td>H</td>\n",
       "      <td>7.09</td>\n",
       "    </tr>\n",
       "    <tr>\n",
       "      <th>12</th>\n",
       "      <td>E</td>\n",
       "      <td>2.84</td>\n",
       "    </tr>\n",
       "    <tr>\n",
       "      <th>13</th>\n",
       "      <td>Y</td>\n",
       "      <td>2.13</td>\n",
       "    </tr>\n",
       "    <tr>\n",
       "      <th>14</th>\n",
       "      <td>R</td>\n",
       "      <td>2.13</td>\n",
       "    </tr>\n",
       "    <tr>\n",
       "      <th>15</th>\n",
       "      <td>M</td>\n",
       "      <td>1.42</td>\n",
       "    </tr>\n",
       "    <tr>\n",
       "      <th>16</th>\n",
       "      <td>F</td>\n",
       "      <td>4.96</td>\n",
       "    </tr>\n",
       "    <tr>\n",
       "      <th>17</th>\n",
       "      <td>Q</td>\n",
       "      <td>0.71</td>\n",
       "    </tr>\n",
       "    <tr>\n",
       "      <th>18</th>\n",
       "      <td>C</td>\n",
       "      <td>0.71</td>\n",
       "    </tr>\n",
       "  </tbody>\n",
       "</table>\n",
       "</div>"
      ],
      "text/plain": [
       "   Amino Acid  Percentage\n",
       "0           V        9.22\n",
       "1           L       12.77\n",
       "2           S        7.80\n",
       "3           P        4.96\n",
       "4           A       14.89\n",
       "5           D        5.67\n",
       "6           K        7.80\n",
       "7           T        6.38\n",
       "8           N        2.84\n",
       "9           W        0.71\n",
       "10          G        4.96\n",
       "11          H        7.09\n",
       "12          E        2.84\n",
       "13          Y        2.13\n",
       "14          R        2.13\n",
       "15          M        1.42\n",
       "16          F        4.96\n",
       "17          Q        0.71\n",
       "18          C        0.71"
      ]
     },
     "execution_count": 42,
     "metadata": {},
     "output_type": "execute_result"
    }
   ],
   "source": [
    "import pandas as pd\n",
    "df = pd.DataFrame(list(composition.items()), columns=[\"Amino Acid\", \"Percentage\"])\n",
    "df"
   ]
  },
  {
   "cell_type": "code",
   "execution_count": 43,
   "id": "63725529-5ffe-4cb0-b17b-34e8566801f5",
   "metadata": {
    "scrolled": true
   },
   "outputs": [
    {
     "data": {
      "text/html": [
       "<div>\n",
       "<style scoped>\n",
       "    .dataframe tbody tr th:only-of-type {\n",
       "        vertical-align: middle;\n",
       "    }\n",
       "\n",
       "    .dataframe tbody tr th {\n",
       "        vertical-align: top;\n",
       "    }\n",
       "\n",
       "    .dataframe thead th {\n",
       "        text-align: right;\n",
       "    }\n",
       "</style>\n",
       "<table border=\"1\" class=\"dataframe\">\n",
       "  <thead>\n",
       "    <tr style=\"text-align: right;\">\n",
       "      <th></th>\n",
       "      <th>Amino Acid</th>\n",
       "      <th>Percentage</th>\n",
       "    </tr>\n",
       "  </thead>\n",
       "  <tbody>\n",
       "    <tr>\n",
       "      <th>4</th>\n",
       "      <td>A</td>\n",
       "      <td>14.89</td>\n",
       "    </tr>\n",
       "    <tr>\n",
       "      <th>1</th>\n",
       "      <td>L</td>\n",
       "      <td>12.77</td>\n",
       "    </tr>\n",
       "    <tr>\n",
       "      <th>0</th>\n",
       "      <td>V</td>\n",
       "      <td>9.22</td>\n",
       "    </tr>\n",
       "    <tr>\n",
       "      <th>2</th>\n",
       "      <td>S</td>\n",
       "      <td>7.80</td>\n",
       "    </tr>\n",
       "    <tr>\n",
       "      <th>6</th>\n",
       "      <td>K</td>\n",
       "      <td>7.80</td>\n",
       "    </tr>\n",
       "    <tr>\n",
       "      <th>11</th>\n",
       "      <td>H</td>\n",
       "      <td>7.09</td>\n",
       "    </tr>\n",
       "    <tr>\n",
       "      <th>7</th>\n",
       "      <td>T</td>\n",
       "      <td>6.38</td>\n",
       "    </tr>\n",
       "    <tr>\n",
       "      <th>5</th>\n",
       "      <td>D</td>\n",
       "      <td>5.67</td>\n",
       "    </tr>\n",
       "    <tr>\n",
       "      <th>10</th>\n",
       "      <td>G</td>\n",
       "      <td>4.96</td>\n",
       "    </tr>\n",
       "    <tr>\n",
       "      <th>16</th>\n",
       "      <td>F</td>\n",
       "      <td>4.96</td>\n",
       "    </tr>\n",
       "    <tr>\n",
       "      <th>3</th>\n",
       "      <td>P</td>\n",
       "      <td>4.96</td>\n",
       "    </tr>\n",
       "    <tr>\n",
       "      <th>12</th>\n",
       "      <td>E</td>\n",
       "      <td>2.84</td>\n",
       "    </tr>\n",
       "    <tr>\n",
       "      <th>8</th>\n",
       "      <td>N</td>\n",
       "      <td>2.84</td>\n",
       "    </tr>\n",
       "    <tr>\n",
       "      <th>13</th>\n",
       "      <td>Y</td>\n",
       "      <td>2.13</td>\n",
       "    </tr>\n",
       "    <tr>\n",
       "      <th>14</th>\n",
       "      <td>R</td>\n",
       "      <td>2.13</td>\n",
       "    </tr>\n",
       "    <tr>\n",
       "      <th>15</th>\n",
       "      <td>M</td>\n",
       "      <td>1.42</td>\n",
       "    </tr>\n",
       "    <tr>\n",
       "      <th>17</th>\n",
       "      <td>Q</td>\n",
       "      <td>0.71</td>\n",
       "    </tr>\n",
       "    <tr>\n",
       "      <th>9</th>\n",
       "      <td>W</td>\n",
       "      <td>0.71</td>\n",
       "    </tr>\n",
       "    <tr>\n",
       "      <th>18</th>\n",
       "      <td>C</td>\n",
       "      <td>0.71</td>\n",
       "    </tr>\n",
       "  </tbody>\n",
       "</table>\n",
       "</div>"
      ],
      "text/plain": [
       "   Amino Acid  Percentage\n",
       "4           A       14.89\n",
       "1           L       12.77\n",
       "0           V        9.22\n",
       "2           S        7.80\n",
       "6           K        7.80\n",
       "11          H        7.09\n",
       "7           T        6.38\n",
       "5           D        5.67\n",
       "10          G        4.96\n",
       "16          F        4.96\n",
       "3           P        4.96\n",
       "12          E        2.84\n",
       "8           N        2.84\n",
       "13          Y        2.13\n",
       "14          R        2.13\n",
       "15          M        1.42\n",
       "17          Q        0.71\n",
       "9           W        0.71\n",
       "18          C        0.71"
      ]
     },
     "execution_count": 43,
     "metadata": {},
     "output_type": "execute_result"
    }
   ],
   "source": [
    "df = df.sort_values(\"Percentage\", ascending=False)\n",
    "df"
   ]
  },
  {
   "cell_type": "code",
   "execution_count": null,
   "id": "8776c70a-f540-4cbf-b375-04d2d80ce112",
   "metadata": {},
   "outputs": [],
   "source": []
  }
 ],
 "metadata": {
  "kernelspec": {
   "display_name": "Python [conda env:base] *",
   "language": "python",
   "name": "conda-base-py"
  },
  "language_info": {
   "codemirror_mode": {
    "name": "ipython",
    "version": 3
   },
   "file_extension": ".py",
   "mimetype": "text/x-python",
   "name": "python",
   "nbconvert_exporter": "python",
   "pygments_lexer": "ipython3",
   "version": "3.12.7"
  }
 },
 "nbformat": 4,
 "nbformat_minor": 5
}
